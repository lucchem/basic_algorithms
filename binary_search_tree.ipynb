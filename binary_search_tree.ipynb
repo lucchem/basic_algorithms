{
 "cells": [
  {
   "cell_type": "markdown",
   "metadata": {},
   "source": [
    "# Simple implementation of a left-right binary search tree\n",
    "\n",
    "Elements are stored such that on the left branch there are elements smaller than the parent node.\n",
    "\n",
    "Pretty-printing the first six levels."
   ]
  },
  {
   "cell_type": "code",
   "execution_count": 1,
   "metadata": {},
   "outputs": [
    {
     "name": "stdout",
     "output_type": "stream",
     "text": [
      "[[(1, 79)], [(1, 55), (2, 84)], [(1, 7), (2, 66), (4, 95)], [(2, 49), (4, 76), (7, 93)], [(3, 19), (4, 54), (13, 91)], [(5, 12), (6, 21)], [(12, 35)], [(23, 32)], [(45, 29)], [(89, 25)]]\n"
     ]
    }
   ],
   "source": [
    "class tree:\n",
    "    def __init__(self,value, id = 1):\n",
    "        self.r = None\n",
    "        self.l = None\n",
    "        self.v = value\n",
    "        self.i = id\n",
    "        \n",
    "    def add(self,value):\n",
    "        if value == self.v:\n",
    "            return\n",
    "        if value > self.v:\n",
    "            if self.r == None:\n",
    "                self.r = tree(value,2*self.i)\n",
    "                return\n",
    "            else:\n",
    "                self.r.add(value)\n",
    "        if value < self.v:\n",
    "            if self.l == None:\n",
    "                self.l = tree(value,2*self.i-1)\n",
    "                return\n",
    "            else:\n",
    "                self.l.add(value)\n",
    "                \n",
    "    def maxval(self):\n",
    "        if self.r == None:\n",
    "            return self.v\n",
    "        return self.r.maxval()\n",
    "    \n",
    "    def deep(self):\n",
    "        if self.l == None and self.r == None:\n",
    "            deepval = 0\n",
    "        else:\n",
    "            if self.l == None:\n",
    "                deepval = self.r.deep() + 1\n",
    "            elif self.r == None:\n",
    "                deepval = self.l.deep() + 1\n",
    "            else:\n",
    "                deepval = max(self.l.deep(),self.r.deep())+1\n",
    "        return deepval\n",
    "\n",
    "                \n",
    "    def printall(self,base = ''):\n",
    "        lista = [ (self.i,base+str(self.v)) ]\n",
    "        if self.l != None:\n",
    "            lista += self.l.printall(base+'<')\n",
    "        if self.r != None:\n",
    "            lista += self.r.printall(base+'>')\n",
    "        \n",
    "        if base == '':\n",
    "            fpr = [ [] for _ in range(self.deep()+1) ]\n",
    "\n",
    "            for (a,b) in lista:\n",
    "                fpr[b.count('<')+b.count('>')].append((a,int(b.replace('>','').replace('<',''))))\n",
    "\n",
    "            for i in fpr:\n",
    "                i.sort()\n",
    "\n",
    "            return fpr\n",
    "        else:\n",
    "            return lista\n",
    "            \n",
    "            \n",
    "import numpy as np\n",
    "nodes = np.random.random_integers(1,100,size = 20)\n",
    "\n",
    "for i in nodes:\n",
    "    try:\n",
    "        root.add(i)\n",
    "    except NameError:\n",
    "        root = tree(i)\n",
    "\n",
    "structure = root.printall()\n",
    "print(structure)"
   ]
  },
  {
   "cell_type": "code",
   "execution_count": 2,
   "metadata": {},
   "outputs": [
    {
     "name": "stdout",
     "output_type": "stream",
     "text": [
      "                                                              79                                                              \n",
      "                              55                                                              84                              \n",
      "               7                              66                              ..                              95              \n",
      "      ..              49              ..              76              ..              ..              93              ..      \n",
      "  ..      ..      19      54      ..      ..      ..      ..      ..      ..      ..      ..      91      ..      ..      ..  \n",
      "..  ..  ..  ..  12  21  ..  ..  ..  ..  ..  ..  ..  ..  ..  ..  ..  ..  ..  ..  ..  ..  ..  ..  ..  ..  ..  ..  ..  ..  ..  ..\n"
     ]
    }
   ],
   "source": [
    "initspace = [0]\n",
    "middlespace = [2]\n",
    "for i in range(1,50):\n",
    "    initspace.append(initspace[-1]+1+middlespace[-1]//2)\n",
    "    middlespace.append(2*middlespace[-1]+2)\n",
    "\n",
    "sep = ' '\n",
    "void = '..'\n",
    "\n",
    "structure = structure[:min(6,len(structure))]\n",
    "for level in range(len(structure)):\n",
    "    print(initspace[len(structure)-1-level]*sep,end='')\n",
    "    \n",
    "    for node in range(1,2**level+1):\n",
    "        if node in [ a for (a,b) in structure[level] ]:\n",
    "            for (a,b) in structure[level]:\n",
    "                if a == node:\n",
    "                    print('{:2d}'.format(b),end='')\n",
    "        else:\n",
    "            print(void,end='')\n",
    "        if node == 2**level:\n",
    "            break\n",
    "        print(middlespace[len(structure)-1-level]*sep,end='') \n",
    "            \n",
    "    print(initspace[len(structure)-1-level]*sep)"
   ]
  }
 ],
 "metadata": {
  "kernelspec": {
   "display_name": "Python 3",
   "language": "python",
   "name": "python3"
  },
  "language_info": {
   "codemirror_mode": {
    "name": "ipython",
    "version": 3
   },
   "file_extension": ".py",
   "mimetype": "text/x-python",
   "name": "python",
   "nbconvert_exporter": "python",
   "pygments_lexer": "ipython3",
   "version": "3.7.4"
  }
 },
 "nbformat": 4,
 "nbformat_minor": 4
}
