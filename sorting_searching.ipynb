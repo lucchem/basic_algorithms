{
 "cells": [
  {
   "cell_type": "code",
   "execution_count": 1,
   "metadata": {},
   "outputs": [],
   "source": [
    "import numpy as np\n",
    "np.random.seed(10101)\n",
    "\n",
    "N = 20\n",
    "v = list(np.random.random_integers(1,100,N))"
   ]
  },
  {
   "cell_type": "markdown",
   "metadata": {},
   "source": [
    "## Native sorting methods\n",
    "``list.sort()`` and ``sorted(numpy.array or list)`` are $O(n\\log n)$, so they are safe. The underlying algorithm is Timsort from Tim Peters (2002)."
   ]
  },
  {
   "cell_type": "code",
   "execution_count": 2,
   "metadata": {},
   "outputs": [
    {
     "name": "stdout",
     "output_type": "stream",
     "text": [
      "[1, 6, 8, 13, 27, 47, 51, 52, 54, 57, 57, 58, 59, 72, 83, 87, 89, 91, 92, 100]\n",
      "[1, 6, 8, 13, 27, 47, 51, 52, 54, 57, 57, 58, 59, 72, 83, 87, 89, 91, 92, 100]\n",
      "[1, 54, 51, 58, 59, 92, 27, 87, 52, 83, 47, 6, 8, 57, 57, 91, 100, 72, 13, 89]\n"
     ]
    }
   ],
   "source": [
    "work = list(v)\n",
    "work.sort()\n",
    "print(work)\n",
    "print(sorted(v))\n",
    "print(v)"
   ]
  },
  {
   "cell_type": "markdown",
   "metadata": {},
   "source": [
    "## Timsort"
   ]
  },
  {
   "cell_type": "code",
   "execution_count": 3,
   "metadata": {},
   "outputs": [],
   "source": [
    "def insertion_sort(array, left=0, right=None):\n",
    "    if right is None:\n",
    "        right = len(array) - 1\n",
    "\n",
    "    # Loop from the element indicated by `left` until the element indicated by `right`\n",
    "    for i in range(left + 1, right + 1):\n",
    "        # This is the element we want to position in its correct place\n",
    "        key_item = array[i]\n",
    "\n",
    "        # Initialize the variable that will be used to find the correct position of the element referenced by `key_item`\n",
    "        j = i - 1\n",
    "\n",
    "        # Run through the list of items (the left portion of the array) and find the correct position\n",
    "        # of the element referenced by `key_item`. Do this only if the `key_item` is smaller than its adjacent values.\n",
    "        while j >= left and array[j] > key_item:\n",
    "            # Shift the value one position to the left and reposition `j` to point to the next element (from right to left)\n",
    "            array[j + 1] = array[j]\n",
    "            j -= 1\n",
    "\n",
    "        # When you finish shifting the elements, position the `key_item` in its correct location\n",
    "        array[j + 1] = key_item\n",
    "\n",
    "    return array\n",
    "\n",
    "def timsort(array):\n",
    "    min_run = 32\n",
    "    n = len(array)\n",
    "\n",
    "    # Start by slicing and sorting small portions of the input array. The size of these slices is defined by your `min_run` size.\n",
    "    for i in range(0, n, min_run):\n",
    "        insertion_sort(array, i, min((i + min_run - 1), n - 1))\n",
    "\n",
    "    # Now you can start merging the sorted slices.\n",
    "    # Start from `min_run`, doubling the size on each iteration until you surpass the length of the array.\n",
    "    size = min_run\n",
    "    while size < n:\n",
    "        # Determine the arrays that will be merged together\n",
    "        for start in range(0, n, size * 2):\n",
    "            # Compute the `midpoint` (where the first array ends and the second starts) and the `endpoint` (where the second array ends)\n",
    "            midpoint = start + size - 1\n",
    "            end = min((start + size * 2 - 1), (n-1))\n",
    "\n",
    "            # Merge the two subarrays.\n",
    "            # The `left` array should go from `start` to `midpoint + 1`, while the `right` array should go from `midpoint + 1` to `end + 1`.\n",
    "            merged_array = merge(\n",
    "                left=array[start:midpoint + 1],\n",
    "                right=array[midpoint + 1:end + 1])\n",
    "\n",
    "            # Finally, put the merged array back into your array\n",
    "            array[start:start + len(merged_array)] = merged_array\n",
    "\n",
    "        # Each iteration should double the size of your arrays\n",
    "        size *= 2\n",
    "\n",
    "    return array"
   ]
  },
  {
   "cell_type": "markdown",
   "metadata": {},
   "source": [
    "## Binary search\n",
    "Implementing binary search on sorted array. It runs in $O(\\log n)$."
   ]
  },
  {
   "cell_type": "code",
   "execution_count": 4,
   "metadata": {},
   "outputs": [],
   "source": [
    "def best_sort(A):\n",
    "    return sorted(A)\n",
    "\n",
    "def binary_search(A,p):\n",
    "    l, r = 0, len(A)-1\n",
    "    while True:\n",
    "        middle = (l+r) // 2\n",
    "        if p == A[middle]:\n",
    "            return middle\n",
    "        if l == r:\n",
    "            return -1\n",
    "        if p < A[middle]:\n",
    "            r = middle\n",
    "        else:\n",
    "            l = middle + 1\n",
    "            \n",
    "def binary_place(A,p):\n",
    "    l, r = 0, len(A)-1\n",
    "    if p <= A[0]:\n",
    "        return [ p ] + A\n",
    "    if p >= A[-1]:\n",
    "        return A + [ p ]\n",
    "    while True:\n",
    "        middle = (l+r) // 2\n",
    "        if p <= A[middle]:\n",
    "            r = middle\n",
    "        else:\n",
    "            l = middle\n",
    "        if l == r - 1:\n",
    "            return A[:l+1] + [ p ] + A[r:]"
   ]
  },
  {
   "cell_type": "code",
   "execution_count": 5,
   "metadata": {},
   "outputs": [
    {
     "name": "stdout",
     "output_type": "stream",
     "text": [
      "[1, 6, 8, 13, 27, 47, 51, 52, 54, 57, 57, 58, 59, 72, 83, 87, 89, 91, 92, 100]\n",
      "[1, 6, 8, 13, 27, 47, 51, 52, 53, 54, 57, 57, 58, 59, 72, 83, 87, 89, 91, 92, 100]\n"
     ]
    }
   ],
   "source": [
    "B = binary_place(sorted(v),53)\n",
    "print(sorted(v))\n",
    "print(B)"
   ]
  },
  {
   "cell_type": "code",
   "execution_count": 6,
   "metadata": {},
   "outputs": [
    {
     "name": "stdout",
     "output_type": "stream",
     "text": [
      "[1, 54, 51, 58, 59, 92, 27, 87, 52, 83, 47, 6, 8, 57, 57, 91, 100, 72, 13, 89]\n",
      "[1, 6, 8, 13, 27, 47, 51, 52, 54, 57, 57, 58, 59, 72, 83, 87, 89, 91, 92, 100]\n",
      "57  is at  9 -th place in [1, 6, 8, 13, 27, 47, 51, 52, 54, 57, 57, 58, 59, 72, 83, 87, 89, 91, 92, 100]\n"
     ]
    }
   ],
   "source": [
    "print(list(v))\n",
    "print(sorted(v))\n",
    "\n",
    "new_element = 57\n",
    "place = binary_search(sorted(v),new_element)\n",
    "print(new_element,' is at ',place,'-th place in',sorted(v))"
   ]
  }
 ],
 "metadata": {
  "kernelspec": {
   "display_name": "Python 3",
   "language": "python",
   "name": "python3"
  },
  "language_info": {
   "codemirror_mode": {
    "name": "ipython",
    "version": 3
   },
   "file_extension": ".py",
   "mimetype": "text/x-python",
   "name": "python",
   "nbconvert_exporter": "python",
   "pygments_lexer": "ipython3",
   "version": "3.7.4"
  }
 },
 "nbformat": 4,
 "nbformat_minor": 2
}
