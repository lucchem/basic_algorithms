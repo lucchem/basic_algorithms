{
 "cells": [
  {
   "cell_type": "code",
   "execution_count": 1,
   "metadata": {},
   "outputs": [],
   "source": [
    "import numpy as np"
   ]
  },
  {
   "cell_type": "code",
   "execution_count": 2,
   "metadata": {},
   "outputs": [
    {
     "name": "stdout",
     "output_type": "stream",
     "text": [
      "[208.0, 497.0, 449.0, 320.0, 1557.0, 469.0, 1666.0, 1131.0, 1514.0, 1094.0, 20.0, 263.0, 1787.0, 744.0, 173.0, 1853.0]\n",
      "1787.0\n"
     ]
    }
   ],
   "source": [
    "work = list(np.random.choice(np.linspace(1,2000,2000), size = 16, replace = False))\n",
    "print(work)\n",
    "print(sorted(work)[-2])"
   ]
  },
  {
   "cell_type": "code",
   "execution_count": 3,
   "metadata": {},
   "outputs": [
    {
     "name": "stdout",
     "output_type": "stream",
     "text": [
      "1787.0\n"
     ]
    }
   ],
   "source": [
    "stor = [ [] for i in range(len(work)) ]\n",
    "\n",
    "i = len(work) - 2\n",
    "turno = 1\n",
    "\n",
    "while True:\n",
    "    while i > -1:\n",
    "        if work[i] > work[i+1]:\n",
    "            stor[i].append(work[i+1])\n",
    "            work.pop(i+1)\n",
    "        else:\n",
    "            stor[i+1].append(work[i])\n",
    "            work.pop(i) \n",
    "        i -= 2\n",
    "\n",
    "    stor = [ i for i in stor if len(i) == turno ]\n",
    "\n",
    "    turno += 1\n",
    "    i = len(work) - 2\n",
    "\n",
    "    if len(work) == 1:\n",
    "        break\n",
    "print(max(stor[0]))"
   ]
  }
 ],
 "metadata": {
  "kernelspec": {
   "display_name": "Python 3",
   "language": "python",
   "name": "python3"
  },
  "language_info": {
   "codemirror_mode": {
    "name": "ipython",
    "version": 3
   },
   "file_extension": ".py",
   "mimetype": "text/x-python",
   "name": "python",
   "nbconvert_exporter": "python",
   "pygments_lexer": "ipython3",
   "version": "3.7.4"
  }
 },
 "nbformat": 4,
 "nbformat_minor": 4
}
